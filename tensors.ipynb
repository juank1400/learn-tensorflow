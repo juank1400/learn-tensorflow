{
 "cells": [
  {
   "cell_type": "markdown",
   "metadata": {},
   "source": [
    "# Dimentions"
   ]
  },
  {
   "cell_type": "code",
   "execution_count": 3,
   "metadata": {},
   "outputs": [],
   "source": [
    "import numpy as np\n"
   ]
  },
  {
   "cell_type": "markdown",
   "metadata": {},
   "source": [
    "## Scalars / Vector / Matrix"
   ]
  },
  {
   "cell_type": "code",
   "execution_count": 16,
   "metadata": {},
   "outputs": [
    {
     "name": "stdout",
     "output_type": "stream",
     "text": [
      "Scalar\n",
      "()\n",
      "0\n",
      "Scalar\n",
      "(1,)\n",
      "1\n",
      "Vector\n",
      "(3,)\n",
      "1\n",
      "Matriz\n",
      "(2, 3)\n",
      "2\n"
     ]
    }
   ],
   "source": [
    "x = np.array(42)\n",
    "print(\"Scalar\")\n",
    "print(x.shape)\n",
    "print(x.ndim)\n",
    "\n",
    "x = np.array([42])\n",
    "print(\"Scalar\")\n",
    "print(x.shape)\n",
    "print(x.ndim)\n",
    "\n",
    "x = np.array([42, 24, 12])\n",
    "print(\"Vector\")\n",
    "print(x.shape)\n",
    "print(x.ndim)\n",
    "\n",
    "x = np.array([[42, 24, 12], [42, 24, 12]])\n",
    "print(\"Matriz\")\n",
    "print(x.shape)\n",
    "print(x.ndim)\n",
    "\n",
    "\n"
   ]
  },
  {
   "cell_type": "markdown",
   "metadata": {},
   "source": [
    "## Tensor"
   ]
  },
  {
   "cell_type": "code",
   "execution_count": 18,
   "metadata": {},
   "outputs": [
    {
     "name": "stdout",
     "output_type": "stream",
     "text": [
      "Tensor\n",
      "(4, 2, 3)\n",
      "3\n"
     ]
    }
   ],
   "source": [
    "\n",
    "x = np.array([[[42, 24, 12], [42, 24, 12]],\n",
    "    [[42, 24, 12], [42, 24, 12]],\n",
    "    [[42, 24, 12], [42, 24, 12]],\n",
    "    [[42, 24, 12], [42, 24, 12]]])\n",
    "print(\"Tensor\")\n",
    "print(x.shape)\n",
    "print(x.ndim)"
   ]
  },
  {
   "cell_type": "markdown",
   "metadata": {},
   "source": [
    "## Reshape"
   ]
  },
  {
   "cell_type": "code",
   "execution_count": 19,
   "metadata": {},
   "outputs": [
    {
     "data": {
      "text/plain": [
       "array([[[42, 42, 42, 42],\n",
       "        [42, 42, 42, 42]],\n",
       "\n",
       "       [[24, 24, 24, 24],\n",
       "        [24, 24, 24, 24]],\n",
       "\n",
       "       [[12, 12, 12, 12],\n",
       "        [12, 12, 12, 12]]])"
      ]
     },
     "execution_count": 19,
     "metadata": {},
     "output_type": "execute_result"
    }
   ],
   "source": [
    "x.T"
   ]
  },
  {
   "cell_type": "code",
   "execution_count": 20,
   "metadata": {},
   "outputs": [
    {
     "data": {
      "text/plain": [
       "array([[[42],\n",
       "        [24],\n",
       "        [12],\n",
       "        [42],\n",
       "        [24],\n",
       "        [12]],\n",
       "\n",
       "       [[42],\n",
       "        [24],\n",
       "        [12],\n",
       "        [42],\n",
       "        [24],\n",
       "        [12]],\n",
       "\n",
       "       [[42],\n",
       "        [24],\n",
       "        [12],\n",
       "        [42],\n",
       "        [24],\n",
       "        [12]],\n",
       "\n",
       "       [[42],\n",
       "        [24],\n",
       "        [12],\n",
       "        [42],\n",
       "        [24],\n",
       "        [12]]])"
      ]
     },
     "execution_count": 20,
     "metadata": {},
     "output_type": "execute_result"
    }
   ],
   "source": [
    "x.reshape(4,6,1)"
   ]
  }
 ],
 "metadata": {
  "kernelspec": {
   "display_name": "jupyter",
   "language": "python",
   "name": "python3"
  },
  "language_info": {
   "codemirror_mode": {
    "name": "ipython",
    "version": 3
   },
   "file_extension": ".py",
   "mimetype": "text/x-python",
   "name": "python",
   "nbconvert_exporter": "python",
   "pygments_lexer": "ipython3",
   "version": "3.11.9"
  }
 },
 "nbformat": 4,
 "nbformat_minor": 2
}
